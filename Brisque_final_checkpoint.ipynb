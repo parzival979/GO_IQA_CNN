{
 "cells": [
  {
   "cell_type": "code",
   "execution_count": 3,
   "id": "c60cc8dc",
   "metadata": {},
   "outputs": [],
   "source": [
    "import pandas as pd\n",
    "import numpy as np"
   ]
  },
  {
   "cell_type": "code",
   "execution_count": 75,
   "id": "54c9008d",
   "metadata": {},
   "outputs": [],
   "source": [
    "# loading the data\n",
    "data = pd.read_csv('datasets/nyu_data/selected/selected_5000_mse.csv')"
   ]
  },
  {
   "cell_type": "code",
   "execution_count": 16,
   "id": "cd5491e0",
   "metadata": {},
   "outputs": [],
   "source": [
    "# adding datasets/nyu_data/selected/ to all the cells of columns images and depths\n",
    "data['images'] = 'datasets/nyu_data/selected/' + data['images']\n",
    "data['depths'] = 'datasets/nyu_data/selected/' + data['depths']"
   ]
  },
  {
   "cell_type": "code",
   "execution_count": 6,
   "id": "920b400f",
   "metadata": {},
   "outputs": [],
   "source": [
    "df = data"
   ]
  },
  {
   "cell_type": "code",
   "execution_count": 18,
   "id": "5210e72c",
   "metadata": {},
   "outputs": [],
   "source": [
    "import torch\n",
    "from piq import brisque\n",
    "from PIL import Image\n",
    "\n",
    "# calculating the brisque score of an image given its path\n",
    "def brisque_score(image_path):\n",
    "    image = Image.open(image_path)\n",
    "    image = np.array(image)\n",
    "    image_tensor = torch.from_numpy(image).permute(2, 0, 1).unsqueeze(0).float() / 255.0\n",
    "    # Move tensor to the appropriate device (CPU or GPU if available)\n",
    "    device = torch.device(\"cuda\" if torch.cuda.is_available() else \"cpu\")\n",
    "    image_tensor = image_tensor.to(device)\n",
    "    # Calculate the BRISQUE score\n",
    "    with torch.no_grad():  # Optionally disable gradient calculation\n",
    "        brisque_score = brisque(image_tensor, data_range=1.0)\n",
    "        return brisque_score.item()"
   ]
  },
  {
   "cell_type": "code",
   "execution_count": 19,
   "id": "d09de078",
   "metadata": {},
   "outputs": [
    {
     "name": "stdout",
     "output_type": "stream",
     "text": [
      "Requirement already satisfied: piq in /home/cs20b1006/miniconda3/envs/Depth_Anything_torch/lib/python3.9/site-packages (0.8.0)\n",
      "Requirement already satisfied: torchvision>=0.10.0 in /home/cs20b1006/miniconda3/envs/Depth_Anything_torch/lib/python3.9/site-packages (from piq) (0.13.1+cu113)\n",
      "Requirement already satisfied: typing-extensions in /home/cs20b1006/miniconda3/envs/Depth_Anything_torch/lib/python3.9/site-packages (from torchvision>=0.10.0->piq) (4.11.0)\n",
      "Requirement already satisfied: numpy in /home/cs20b1006/miniconda3/envs/Depth_Anything_torch/lib/python3.9/site-packages (from torchvision>=0.10.0->piq) (1.26.4)\n",
      "Requirement already satisfied: requests in /home/cs20b1006/miniconda3/envs/Depth_Anything_torch/lib/python3.9/site-packages (from torchvision>=0.10.0->piq) (2.31.0)\n",
      "Requirement already satisfied: torch==1.12.1 in /home/cs20b1006/miniconda3/envs/Depth_Anything_torch/lib/python3.9/site-packages (from torchvision>=0.10.0->piq) (1.12.1+cu113)\n",
      "Requirement already satisfied: pillow!=8.3.*,>=5.3.0 in /home/cs20b1006/miniconda3/envs/Depth_Anything_torch/lib/python3.9/site-packages (from torchvision>=0.10.0->piq) (10.3.0)\n",
      "Requirement already satisfied: charset-normalizer<4,>=2 in /home/cs20b1006/miniconda3/envs/Depth_Anything_torch/lib/python3.9/site-packages (from requests->torchvision>=0.10.0->piq) (3.3.2)\n",
      "Requirement already satisfied: idna<4,>=2.5 in /home/cs20b1006/miniconda3/envs/Depth_Anything_torch/lib/python3.9/site-packages (from requests->torchvision>=0.10.0->piq) (3.7)\n",
      "Requirement already satisfied: urllib3<3,>=1.21.1 in /home/cs20b1006/miniconda3/envs/Depth_Anything_torch/lib/python3.9/site-packages (from requests->torchvision>=0.10.0->piq) (2.2.1)\n",
      "Requirement already satisfied: certifi>=2017.4.17 in /home/cs20b1006/miniconda3/envs/Depth_Anything_torch/lib/python3.9/site-packages (from requests->torchvision>=0.10.0->piq) (2024.2.2)\n"
     ]
    }
   ],
   "source": [
    "! pip install piq"
   ]
  },
  {
   "cell_type": "code",
   "execution_count": 20,
   "id": "0a535fe8",
   "metadata": {},
   "outputs": [
    {
     "data": {
      "text/plain": [
       "True"
      ]
     },
     "execution_count": 20,
     "metadata": {},
     "output_type": "execute_result"
    }
   ],
   "source": [
    "torch.cuda.is_available()"
   ]
  },
  {
   "cell_type": "code",
   "execution_count": 21,
   "id": "9c15a3f1",
   "metadata": {},
   "outputs": [],
   "source": [
    "images_list = np.array(df['images'])"
   ]
  },
  {
   "cell_type": "code",
   "execution_count": 22,
   "id": "d8f143b0",
   "metadata": {},
   "outputs": [
    {
     "name": "stderr",
     "output_type": "stream",
     "text": [
      "100%|█████████████████████████████████████████████████████████████████████████████████████████████████████████████████████████████████████████| 5000/5000 [20:11<00:00,  4.13it/s]\n"
     ]
    }
   ],
   "source": [
    "from tqdm import tqdm\n",
    "brisque_list = []\n",
    "for i in tqdm(range(len(images_list))):\n",
    "    brisque_list.append(brisque_score(images_list[i]))"
   ]
  },
  {
   "cell_type": "code",
   "execution_count": 23,
   "id": "45888d0f",
   "metadata": {},
   "outputs": [],
   "source": [
    "df['brisque'] = brisque_list"
   ]
  },
  {
   "cell_type": "code",
   "execution_count": 7,
   "id": "c01faa07",
   "metadata": {},
   "outputs": [
    {
     "name": "stdout",
     "output_type": "stream",
     "text": [
      "Pearson Correlation: -0.0358173037280832\n"
     ]
    }
   ],
   "source": [
    "# getting the pearson correlation between the predicted and actual values\n",
    "pearson_corr = np.corrcoef(df['mse'],df['brisque'])[0, 1]\n",
    "print(f'Pearson Correlation: {pearson_corr}')"
   ]
  },
  {
   "cell_type": "code",
   "execution_count": 74,
   "id": "255dc6d7",
   "metadata": {},
   "outputs": [],
   "source": [
    "data.to_csv('datasets/nyu_data/selected/selected_5000_mse_brisque.csv')"
   ]
  },
  {
   "cell_type": "code",
   "execution_count": 5,
   "id": "b50c4faf",
   "metadata": {},
   "outputs": [],
   "source": [
    "# loading the data\n",
    "data = pd.read_csv('datasets/nyu_data/selected/selected_5000_mse_brisque.csv')"
   ]
  },
  {
   "cell_type": "code",
   "execution_count": 8,
   "id": "0d6f9b9e",
   "metadata": {},
   "outputs": [
    {
     "data": {
      "text/plain": [
       "0.170549132553393"
      ]
     },
     "execution_count": 8,
     "metadata": {},
     "output_type": "execute_result"
    }
   ],
   "source": [
    "data[data['images'].str.contains(\"colours/\")]['mse'].median()"
   ]
  },
  {
   "cell_type": "code",
   "execution_count": 9,
   "id": "f6c53ea9",
   "metadata": {},
   "outputs": [
    {
     "data": {
      "text/plain": [
       "0.1658929301948107"
      ]
     },
     "execution_count": 9,
     "metadata": {},
     "output_type": "execute_result"
    }
   ],
   "source": [
    "data[data['images'].str.contains(\"colours_blurred/\")]['mse'].median()"
   ]
  },
  {
   "cell_type": "code",
   "execution_count": 10,
   "id": "4177cba4",
   "metadata": {},
   "outputs": [
    {
     "data": {
      "text/plain": [
       "0.1712786520369834"
      ]
     },
     "execution_count": 10,
     "metadata": {},
     "output_type": "execute_result"
    }
   ],
   "source": [
    "data[data['images'].str.contains(\"colours_noisy/\")]['mse'].median()"
   ]
  },
  {
   "cell_type": "code",
   "execution_count": 13,
   "id": "482ac9ec",
   "metadata": {},
   "outputs": [
    {
     "name": "stdout",
     "output_type": "stream",
     "text": [
      "0.1793792933692727\n"
     ]
    }
   ],
   "source": [
    "data[data['images'].str.contains(\"colours_noisy_gaussian/\")]['mse'].median()"
   ]
  },
  {
   "cell_type": "code",
   "execution_count": 70,
   "id": "cb8b7cd2",
   "metadata": {},
   "outputs": [
    {
     "data": {
      "text/plain": [
       "35.07163653987469"
      ]
     },
     "execution_count": 70,
     "metadata": {},
     "output_type": "execute_result"
    }
   ],
   "source": [
    "data[data['images'].str.contains(\"colours/\")]['brisque'].mean()"
   ]
  },
  {
   "cell_type": "code",
   "execution_count": 71,
   "id": "17bce086",
   "metadata": {},
   "outputs": [
    {
     "data": {
      "text/plain": [
       "59.70570058766423"
      ]
     },
     "execution_count": 71,
     "metadata": {},
     "output_type": "execute_result"
    }
   ],
   "source": [
    "data[data['images'].str.contains(\"colours_blurred/\")]['brisque'].mean()"
   ]
  },
  {
   "cell_type": "code",
   "execution_count": 72,
   "id": "0b5f3004",
   "metadata": {},
   "outputs": [
    {
     "data": {
      "text/plain": [
       "88.83564661450954"
      ]
     },
     "execution_count": 72,
     "metadata": {},
     "output_type": "execute_result"
    }
   ],
   "source": [
    "data[data['images'].str.contains(\"colours_noisy/\")]['brisque'].mean()"
   ]
  },
  {
   "cell_type": "code",
   "execution_count": 73,
   "id": "35ca7727",
   "metadata": {},
   "outputs": [
    {
     "data": {
      "text/plain": [
       "71.93290867539703"
      ]
     },
     "execution_count": 73,
     "metadata": {},
     "output_type": "execute_result"
    }
   ],
   "source": [
    "data[data['images'].str.contains(\"colours_noisy_gaussian/\")]['brisque'].mean()"
   ]
  },
  {
   "cell_type": "code",
   "execution_count": 78,
   "id": "a9903928",
   "metadata": {},
   "outputs": [],
   "source": [
    "# min max normalizing the mse values\n",
    "data['mse'] = (data['mse'] - data['mse'].min()) / (data['mse'].max() - data['mse'].min())"
   ]
  }
 ],
 "metadata": {
  "kernelspec": {
   "display_name": "Python 3 (ipykernel)",
   "language": "python",
   "name": "python3"
  },
  "language_info": {
   "codemirror_mode": {
    "name": "ipython",
    "version": 3
   },
   "file_extension": ".py",
   "mimetype": "text/x-python",
   "name": "python",
   "nbconvert_exporter": "python",
   "pygments_lexer": "ipython3",
   "version": "3.9.19"
  }
 },
 "nbformat": 4,
 "nbformat_minor": 5
}
