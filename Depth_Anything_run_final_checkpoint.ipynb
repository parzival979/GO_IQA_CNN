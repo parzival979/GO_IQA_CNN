{
 "cells": [
  {
   "cell_type": "code",
   "execution_count": 2,
   "metadata": {
    "collapsed": true,
    "ExecuteTime": {
     "end_time": "2024-05-11T14:25:32.589695Z",
     "start_time": "2024-05-11T14:25:32.342533Z"
    }
   },
   "outputs": [],
   "source": [
    "# loading a dataset\n",
    "import pandas as pd\n",
    "df = pd.read_csv('datasets/nyu_data/selected/selected_augmented.csv')"
   ]
  },
  {
   "cell_type": "code",
   "execution_count": 3,
   "outputs": [
    {
     "data": {
      "text/plain": "True"
     },
     "execution_count": 3,
     "metadata": {},
     "output_type": "execute_result"
    }
   ],
   "source": [
    "# check if gpu is available to pytorch\n",
    "import torch\n",
    "torch.cuda.is_available()"
   ],
   "metadata": {
    "collapsed": false,
    "ExecuteTime": {
     "end_time": "2024-05-11T14:25:32.877259Z",
     "start_time": "2024-05-11T14:25:32.862315Z"
    }
   }
  },
  {
   "cell_type": "code",
   "execution_count": 4,
   "outputs": [],
   "source": [
    "from depth_anything.dpt import DepthAnything\n",
    "from depth_anything.util.transform import Resize, NormalizeImage, PrepareForNet\n",
    "from torchvision.transforms import Compose"
   ],
   "metadata": {
    "collapsed": false,
    "ExecuteTime": {
     "end_time": "2024-05-11T14:25:33.886233Z",
     "start_time": "2024-05-11T14:25:33.435437Z"
    }
   }
  },
  {
   "cell_type": "code",
   "execution_count": 5,
   "outputs": [
    {
     "name": "stderr",
     "output_type": "stream",
     "text": [
      "xFormers not available\n",
      "xFormers not available\n"
     ]
    }
   ],
   "source": [
    "model = DepthAnything.from_pretrained(\"LiheYoung/depth_anything_vitl14\")"
   ],
   "metadata": {
    "collapsed": false,
    "ExecuteTime": {
     "end_time": "2024-05-11T14:25:39.878274Z",
     "start_time": "2024-05-11T14:25:34.000462Z"
    }
   }
  },
  {
   "cell_type": "code",
   "execution_count": 6,
   "outputs": [],
   "source": [
    "transform = Compose([\n",
    "        Resize(\n",
    "            width=518,\n",
    "            height=518,\n",
    "            resize_target=False,\n",
    "            keep_aspect_ratio=True,\n",
    "            ensure_multiple_of=14,\n",
    "            resize_method='lower_bound',\n",
    "            image_interpolation_method=cv2.INTER_CUBIC,\n",
    "        ),\n",
    "        NormalizeImage(mean=[0.485, 0.456, 0.406], std=[0.229, 0.224, 0.225]),\n",
    "        PrepareForNet(),\n",
    "    ])"
   ],
   "metadata": {
    "collapsed": false,
    "ExecuteTime": {
     "end_time": "2024-05-11T14:25:39.880599Z",
     "start_time": "2024-05-11T14:25:39.878643Z"
    }
   }
  },
  {
   "cell_type": "code",
   "execution_count": 7,
   "outputs": [],
   "source": [
    "import numpy as np\n",
    "from PIL import Image\n",
    "import cv2\n",
    "import torch"
   ],
   "metadata": {
    "collapsed": false,
    "ExecuteTime": {
     "end_time": "2024-05-11T14:25:39.880822Z",
     "start_time": "2024-05-11T14:25:39.878845Z"
    }
   }
  },
  {
   "cell_type": "code",
   "execution_count": 8,
   "outputs": [],
   "source": [
    "# writing a function to calculate the mean squared error of an image given its path\n",
    "def mse(image_path,ground_truth_path):\n",
    "    image = Image.open(image_path)\n",
    "    image = np.array(image)\n",
    "    image = (image - image.min()) / (image.max() - image.min())\n",
    "    image = transform({'image': image})['image']\n",
    "    image = torch.from_numpy(image).unsqueeze(0)\n",
    "    depth = model(image)\n",
    "    depth = depth.squeeze(0).detach().cpu().numpy()\n",
    "    depth = (depth - depth.min()) / (depth.max() - depth.min())\n",
    "    depth = (depth * 255).astype(np.uint8)\n",
    "    depth = Image.fromarray(depth)\n",
    "    depth = np.array(depth)\n",
    "    depth = 255 - depth\n",
    "    depth = (depth - depth.min())/(depth.max() - depth.min())\n",
    "    ground_truth = Image.open(ground_truth_path)\n",
    "    ground_truth = np.array(ground_truth)\n",
    "    ground_truth = Image.fromarray(ground_truth).resize((686, 518))\n",
    "    ground_truth = np.array(ground_truth)\n",
    "    ground_truth  = (ground_truth - ground_truth.min())/(ground_truth.max() - ground_truth.min())\n",
    "    mse = np.mean((depth - ground_truth) ** 2)\n",
    "    return mse"
   ],
   "metadata": {
    "collapsed": false,
    "ExecuteTime": {
     "end_time": "2024-05-11T14:25:40.227666Z",
     "start_time": "2024-05-11T14:25:40.219800Z"
    }
   }
  },
  {
   "cell_type": "code",
   "execution_count": 11,
   "outputs": [],
   "source": [
    "# randomly selecting 5000 images and putting them in a dataset\n",
    "import random\n",
    "df_new = df.sample(n=5000)\n",
    "df_new.to_csv('datasets/nyu_data/selected/selected_5000.csv', index=False)"
   ],
   "metadata": {
    "collapsed": false,
    "ExecuteTime": {
     "end_time": "2024-05-11T14:28:31.019744Z",
     "start_time": "2024-05-11T14:28:31.007396Z"
    }
   }
  },
  {
   "cell_type": "code",
   "execution_count": 12,
   "outputs": [
    {
     "name": "stderr",
     "output_type": "stream",
     "text": [
      "100%|███████████████████████████████████████████████████████████████████████████████████████████████████████████████████████████████████████| 5000/5000 [8:48:12<00:00,  6.34s/it]\n"
     ]
    }
   ],
   "source": [
    "# writing a for loop to iterate over all the images and calculate the mean squared error for each image and appending it to a list\n",
    "from tqdm import tqdm\n",
    "mse_list = []\n",
    "for i in tqdm(range(df_new.shape[0])):\n",
    "    mse_list.append(mse(\"datasets/nyu_data/selected/\"+df_new.iloc[i,0], \"datasets/nyu_data/selected/\"+df_new.iloc[i,1]))"
   ],
   "metadata": {
    "collapsed": false,
    "ExecuteTime": {
     "end_time": "2024-05-12T00:47:28.882384Z",
     "start_time": "2024-05-11T14:28:39.083997Z"
    }
   }
  },
  {
   "cell_type": "code",
   "execution_count": 13,
   "outputs": [],
   "source": [
    "# appending the mse_list to the dataframe\n",
    "df_new['mse'] = mse_list"
   ],
   "metadata": {
    "collapsed": false,
    "ExecuteTime": {
     "end_time": "2024-05-12T00:48:46.583226Z",
     "start_time": "2024-05-12T00:48:46.569910Z"
    }
   }
  },
  {
   "cell_type": "code",
   "execution_count": 14,
   "outputs": [
    {
     "data": {
      "text/plain": "                                    images                 depths       mse\n1924                       colours/172.jpg          depth/172.png  0.049538\n34732           colours_blurred/5_5/49.jpg           depth/49.png  0.068819\n15538             colours_noisy/0_08/8.jpg            depth/8.png  0.049201\n17967  colours_noisy/0_08/00810_colors.png  depth/00810_depth.png  0.111913\n4374            colours_noisy/0_01/485.jpg          depth/485.png  0.161699",
      "text/html": "<div>\n<style scoped>\n    .dataframe tbody tr th:only-of-type {\n        vertical-align: middle;\n    }\n\n    .dataframe tbody tr th {\n        vertical-align: top;\n    }\n\n    .dataframe thead th {\n        text-align: right;\n    }\n</style>\n<table border=\"1\" class=\"dataframe\">\n  <thead>\n    <tr style=\"text-align: right;\">\n      <th></th>\n      <th>images</th>\n      <th>depths</th>\n      <th>mse</th>\n    </tr>\n  </thead>\n  <tbody>\n    <tr>\n      <th>1924</th>\n      <td>colours/172.jpg</td>\n      <td>depth/172.png</td>\n      <td>0.049538</td>\n    </tr>\n    <tr>\n      <th>34732</th>\n      <td>colours_blurred/5_5/49.jpg</td>\n      <td>depth/49.png</td>\n      <td>0.068819</td>\n    </tr>\n    <tr>\n      <th>15538</th>\n      <td>colours_noisy/0_08/8.jpg</td>\n      <td>depth/8.png</td>\n      <td>0.049201</td>\n    </tr>\n    <tr>\n      <th>17967</th>\n      <td>colours_noisy/0_08/00810_colors.png</td>\n      <td>depth/00810_depth.png</td>\n      <td>0.111913</td>\n    </tr>\n    <tr>\n      <th>4374</th>\n      <td>colours_noisy/0_01/485.jpg</td>\n      <td>depth/485.png</td>\n      <td>0.161699</td>\n    </tr>\n  </tbody>\n</table>\n</div>"
     },
     "execution_count": 14,
     "metadata": {},
     "output_type": "execute_result"
    }
   ],
   "source": [
    "df_new.head()"
   ],
   "metadata": {
    "collapsed": false,
    "ExecuteTime": {
     "end_time": "2024-05-12T00:48:47.156643Z",
     "start_time": "2024-05-12T00:48:47.139075Z"
    }
   }
  },
  {
   "cell_type": "code",
   "execution_count": 15,
   "outputs": [],
   "source": [
    "# saving the dataframe\n",
    "df_new.to_csv('datasets/nyu_data/selected/selected_5000_mse.csv', index=False)"
   ],
   "metadata": {
    "collapsed": false,
    "ExecuteTime": {
     "end_time": "2024-05-12T00:48:52.391432Z",
     "start_time": "2024-05-12T00:48:52.366509Z"
    }
   }
  },
  {
   "cell_type": "code",
   "execution_count": null,
   "outputs": [],
   "source": [
    "# finding the mean mse of the images that have \"colours/\" in their path\n",
    "df_new[df_new['image'].str.contains(\"colours/\")]['mse'].mean()\n",
    "# finding the mean mse of the images that have \"colours_blurred/\" in their path\n",
    "df_new[df_new['image'].str.contains(\"colours_blurred/\")]['mse'].mean()\n",
    "# finding the mean mse of the images that have \"colours_noisy/\" in their path\n",
    "df_new[df_new['image'].str.contains(\"colours_noisy/\")]['mse'].mean()\n",
    "# finding the mean mse of the images that have \"colours_noisy_gaussian/\" in their path\n",
    "df_new[df_new['image'].str.contains(\"colours_noisy_gaussian/\")]['mse'].mean()"
   ],
   "metadata": {
    "collapsed": false
   }
  }
 ],
 "metadata": {
  "kernelspec": {
   "display_name": "Python 3",
   "language": "python",
   "name": "python3"
  },
  "language_info": {
   "codemirror_mode": {
    "name": "ipython",
    "version": 2
   },
   "file_extension": ".py",
   "mimetype": "text/x-python",
   "name": "python",
   "nbconvert_exporter": "python",
   "pygments_lexer": "ipython2",
   "version": "2.7.6"
  }
 },
 "nbformat": 4,
 "nbformat_minor": 0
}
